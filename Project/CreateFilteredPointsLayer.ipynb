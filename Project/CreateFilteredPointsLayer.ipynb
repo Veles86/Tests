{
 "cells": [
  {
   "cell_type": "code",
   "execution_count": 7,
   "metadata": {},
   "outputs": [
    {
     "name": "stdout",
     "output_type": "stream",
     "text": [
      "Filtered ControlPoints layer created successfully.\n"
     ]
    }
   ],
   "source": [
    "import arcpy\n",
    "# Path to your feature class\n",
    "MainFolder = fr\"E:\\OneDrive\\Research/\"\n",
    "GISFolder = MainFolder + r'GIS/'\n",
    "Database = GISFolder + fr'DATA/Research.gdb/'\n",
    "#Dataset = Database + fr'Levelling/recent'\n",
    "levelling_lines_fc = Database + fr'Levelling/recent'\n",
    "control_points_fc = Database + fr'ControlPoints/ControlPoints_full'\n",
    "\n",
    "\n",
    "\n",
    "# Extract unique codes from codeA and codeB in LevellingLines\n",
    "unique_codes = set()\n",
    "with arcpy.da.SearchCursor(levelling_lines_fc, [\"codeA\", \"codeB\"]) as cursor:\n",
    "    for row in cursor:\n",
    "        unique_codes.add(row[0])\n",
    "        unique_codes.add(row[1])\n",
    "\n",
    "# Convert set of unique codes to a comma-separated string\n",
    "unique_codes_str = ', '.join(map(str, unique_codes))\n",
    "\n",
    "# Create the definition query\n",
    "definition_query = f\"code IN ({unique_codes_str})\"\n",
    "\n",
    "# Create a new layer with the definition query\n",
    "arcpy.MakeFeatureLayer_management(control_points_fc, \"FilteredControlPoints\", definition_query)\n",
    "\n",
    "# Optionally, save this layer to a new feature class or layer file\n",
    "#arcpy.FeatureClassToFeatureClass_conversion(\"FilteredControlPoints\", \"path/to/output/location\", \"FilteredControlPointsLayer\")\n",
    "\n",
    "print(\"Filtered ControlPoints layer created successfully.\")\n"
   ]
  },
  {
   "cell_type": "code",
   "execution_count": null,
   "metadata": {},
   "outputs": [],
   "source": []
  }
 ],
 "metadata": {
  "kernelspec": {
   "display_name": "ArcGISPro",
   "language": "Python",
   "name": "python3"
  },
  "language_info": {
   "file_extension": ".py",
   "name": "python",
   "version": "3"
  }
 },
 "nbformat": 4,
 "nbformat_minor": 2
}
