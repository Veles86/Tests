{
 "cells": [
  {
   "cell_type": "code",
   "execution_count": null,
   "metadata": {},
   "outputs": [],
   "source": [
    "# Path to your feature class\n",
    "    MainFolder = fr\"E:\\OneDrive\\Parcel Fabric/\"\n",
    "    ParcelFabricFolder = MainFolder + r'Parcel Fabric Ofir/'\n",
    "    ParcelFabricDatabase = ParcelFabricFolder + fr'{Environment}Environment\\Data\\NationalCadasterDatabase.gdb/'\n",
    "    ParcelFabricDataset = ParcelFabricDatabase + fr'{OwnerName}ParcelFabricDataset/'\n",
    "\n",
    "fc = r\"path_to_your_feature_class\"\n",
    "\n",
    "# Create a NetworkX graph\n",
    "G = nx.Graph()\n",
    "\n",
    "# Add nodes and edges from the feature class\n",
    "with arcpy.da.SearchCursor(fc, ['SHAPE@', 'Field_A', 'Field_B']) as cursor:\n",
    "    for row in cursor:\n",
    "        start_point = row[1]\n",
    "        end_point = row[2]\n",
    "        G.add_edge(start_point, end_point)\n",
    "\n",
    "# Perform network analysis\n",
    "# Example: Compute shortest path between two nodes\n",
    "start_node = 'A'\n",
    "end_node = 'B'\n",
    "shortest_path = nx.shortest_path(G, source=start_node, target=end_node)\n",
    "print(\"Shortest path:\", shortest_path)"
   ]
  }
 ],
 "metadata": {
  "kernelspec": {
   "display_name": "ArcGISPro",
   "language": "Python",
   "name": "python3"
  },
  "language_info": {
   "file_extension": ".py",
   "name": "python",
   "version": "3"
  }
 },
 "nbformat": 4,
 "nbformat_minor": 2
}
