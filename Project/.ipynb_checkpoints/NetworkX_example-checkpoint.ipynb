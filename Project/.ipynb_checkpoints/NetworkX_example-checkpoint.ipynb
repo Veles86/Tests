{
 "cells": [
  {
   "cell_type": "code",
   "execution_count": 3,
   "metadata": {},
   "outputs": [
    {
     "name": "stdout",
     "output_type": "stream",
     "text": [
      "Shortest path: ['48BYM', '108BYM', '68BYM']\n"
     ]
    }
   ],
   "source": [
    "import networkx as nx\n",
    "\n",
    "# Path to your feature class\n",
    "MainFolder = fr\"E:\\OneDrive\\Research/\"\n",
    "GISFolder = MainFolder + r'GIS/'\n",
    "Database = GISFolder + fr'Research.gdb/'\n",
    "Dataset = Database + fr'Levelling/municipal'\n",
    "\n",
    "#fc = r\"path_to_your_feature_class\"\n",
    "fc = Dataset\n",
    "\n",
    "\n",
    "# Create a NetworkX graph\n",
    "G = nx.Graph()\n",
    "\n",
    "# Add nodes and edges from the feature class\n",
    "with arcpy.da.SearchCursor(fc, ['SHAPE@', 'A', 'B']) as cursor:\n",
    "    for row in cursor:\n",
    "        start_point = row[1]\n",
    "        end_point = row[2]\n",
    "        G.add_edge(start_point, end_point)\n",
    "\n",
    "# Perform network analysis\n",
    "# Example: Compute shortest path between two nodes\n",
    "start_node = '48BYM'\n",
    "end_node = '68BYM'\n",
    "shortest_path = nx.shortest_path(G, source=start_node, target=end_node)\n",
    "print(\"Shortest path:\", shortest_path)"
   ]
  },
  {
   "cell_type": "code",
   "execution_count": null,
   "metadata": {},
   "outputs": [],
   "source": []
  }
 ],
 "metadata": {
  "kernelspec": {
   "display_name": "ArcGISPro",
   "language": "Python",
   "name": "python3"
  },
  "language_info": {
   "file_extension": ".py",
   "name": "python",
   "version": "3"
  }
 },
 "nbformat": 4,
 "nbformat_minor": 2
}
