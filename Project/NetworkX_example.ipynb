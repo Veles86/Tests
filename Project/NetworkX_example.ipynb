{
 "cells": [
  {
   "cell_type": "code",
   "execution_count": 6,
   "metadata": {},
   "outputs": [
    {
     "name": "stdout",
     "output_type": "stream",
     "text": [
      "Shortest path: ['48BYM', '108BYM', '68BYM']\n"
     ]
    }
   ],
   "source": [
    "import networkx as nx\n",
    "\n",
    "# Path to your feature class\n",
    "MainFolder = fr\"E:\\OneDrive\\Research/\"\n",
    "GISFolder = MainFolder + r'GIS/DATA/'\n",
    "Database = GISFolder + fr'Research.gdb/'\n",
    "Dataset = Database + fr'Levelling/municipal'\n",
    "\n",
    "#fc = r\"path_to_your_feature_class\"\n",
    "fc = Dataset\n",
    "\n",
    "\n",
    "# Create a NetworkX graph\n",
    "G = nx.Graph()\n",
    "\n",
    "# Add nodes and edges from the feature class\n",
    "with arcpy.da.SearchCursor(fc, ['SHAPE@', 'A', 'B']) as cursor:\n",
    "    for row in cursor:\n",
    "        start_point = row[1]\n",
    "        end_point = row[2]\n",
    "        G.add_edge(start_point, end_point)\n",
    "\n",
    "# Perform network analysis\n",
    "# Example: Compute shortest path between two nodes\n",
    "start_node = '48BYM'\n",
    "end_node = '68BYM'\n",
    "shortest_path = nx.shortest_path(G, source=start_node, target=end_node)\n",
    "print(\"Shortest path:\", shortest_path)"
   ]
  },
  {
   "cell_type": "code",
   "execution_count": 1,
   "metadata": {},
   "outputs": [
    {
     "name": "stdout",
     "output_type": "stream",
     "text": [
      "Independent cycles in the graph:\n",
      "['7333b', '5708MPI', '5707MPI', '7334b', '5704MPI', '5705MPI', '5706MPI', '646b', '4909', '5701MPI', '5700MPI', '5699MPI', '2655b', '5710MPI', '5711MPI']\n",
      "['5702MPI', '5703MPI', '5704MPI', '5705MPI', '5706MPI', '646b', '4909', '5701MPI', '5700MPI', '5699MPI']\n",
      "['5702MPI', '5719MPI', '5720MPI', '5704MPI', '5705MPI', '5706MPI', '646b', '4909', '5701MPI', '5700MPI', '5699MPI']\n",
      "['5724MPI', '5719MPI', '5720MPI', '5704MPI', '5705MPI', '5706MPI', '646b', '4909', '5701MPI', '5700MPI']\n",
      "['5723MPI', '5721MPI', '5720MPI', '5704MPI', '5705MPI', '5706MPI', '646b', '4909', '5701MPI']\n",
      "['5724MPI', '5722MPI', '5721MPI', '5720MPI', '5704MPI', '5705MPI', '5706MPI', '646b', '4909', '5701MPI', '5700MPI']\n",
      "['5723MPI', '5722MPI', '5721MPI']\n",
      "['1ALON', '2ALON', '5704MPI', '5705MPI']\n",
      "['5724MPI', '5723MPI', '5701MPI', '5700MPI']\n",
      "['2667b', '5697MPI', '1669b', '1668b', '2661b', '5700MPI', '5699MPI']\n",
      "['1672b', '5718MPI', '5697MPI']\n",
      "['402U', '5712MPI', '5713MPI', '7544MPI', '5714MPI', '5715MPI', '5716MPI', '5717MPI', '5718MPI', '5697MPI', '1669b', '1668b', '2661b', '5700MPI', '5699MPI', '2655b', '5710MPI', '5711MPI']\n",
      "['402U', '3349MPI', '6074MPI', '5712MPI']\n",
      "['5727MPI', '5726MPI', '5725MPI', '7544MPI', '5714MPI', '5715MPI', '5716MPI', '5717MPI']\n",
      "['1674b', '1673b', '1672b', '5697MPI', '1669b', '1668b']\n",
      "['4728MPI', '4727MPI', '4726MPI']\n",
      "['494HLV', '4727MPI', '4726MPI', '4725MPI']\n",
      "['5698MPI', '5695MPI', '5694MPI', '4727MPI', '4726MPI', '4725MPI', '2652b', '1672b']\n",
      "['1671b', '1665b', '4729MPI', '4728MPI', '4726MPI', '4725MPI', '2652b', '1672b', '5697MPI', '1669b', '1668b']\n",
      "['6080MPI', '5696MPI', '1665b']\n",
      "['1674b', '1676b', '5696MPI', '1665b', '4729MPI', '4728MPI', '4726MPI', '4725MPI', '2652b', '1672b', '5697MPI', '1669b', '1668b']\n",
      "['684U', '5692MPI', '5693MPI', '5696MPI', '1665b', '4729MPI', '4728MPI']\n",
      "['1671b', '6080MPI', '1665b']\n",
      "['7333b', '5709MPI', '5710MPI', '5711MPI']\n"
     ]
    }
   ],
   "source": [
    "import networkx as nx\n",
    "\n",
    "# Path to your feature class\n",
    "MainFolder = fr\"E:\\OneDrive\\Research/\"\n",
    "GISFolder = MainFolder + r'GIS/'\n",
    "Database = GISFolder + fr'Research.gdb/'\n",
    "Dataset = Database + fr'Levelling/municipal_1'\n",
    "\n",
    "#fc = r\"path_to_your_feature_class\"\n",
    "fc = Dataset\n",
    "\n",
    "# Create a NetworkX graph\n",
    "G = nx.Graph()\n",
    "\n",
    "# Add edges from the feature class (assuming the feature class has start and end points for edges)\n",
    "with arcpy.da.SearchCursor(fc, ['A', 'B']) as cursor:\n",
    "    for row in cursor:\n",
    "        G.add_edge(row[0], row[1])\n",
    "\n",
    "# Find all independent cycles\n",
    "cycles = nx.cycle_basis(G)\n",
    "\n",
    "# Print the cycles\n",
    "print(\"Independent cycles in the graph:\")\n",
    "for cycle in cycles:\n",
    "    print(cycle)"
   ]
  },
  {
   "cell_type": "code",
   "execution_count": null,
   "metadata": {},
   "outputs": [
    {
     "name": "stdout",
     "output_type": "stream",
     "text": [
      "Independent cycles in the graph:\n",
      "['1417b', '4862MPI', '1594b']\n",
      "['1589b', '1586b', '1583b', '1582b', '4862MPI', '1594b']\n",
      "['1589b', '926U', '1417b', '1594b']\n"
     ]
    }
   ],
   "source": [
    "import networkx as nx\n",
    "from arcpy.mp import ArcGISProject\n",
    "\n",
    "layer = ArcGISProject(\"current\").activeMap.listLayers('sorted_segments_Dissolve')[0]\n",
    "# Create a NetworkX graph\n",
    "G = nx.Graph()\n",
    "\n",
    "# Add edges from the feature class (assuming the feature class has start and end points for edges)\n",
    "with arcpy.da.SearchCursor(layer, ['FIRST_A', 'LAST_B']) as cursor:\n",
    "    for row in cursor:\n",
    "        G.add_edge(row[0], row[1])\n",
    "\n",
    "# Find all independent cycles\n",
    "cycles = nx.cycle_basis(G)\n",
    "\n",
    "# Print the cycles\n",
    "print(\"Independent cycles in the graph:\")\n",
    "for cycle in cycles:\n",
    "    print(cycle)"
   ]
  },
  {
   "cell_type": "code",
   "execution_count": null,
   "metadata": {},
   "outputs": [],
   "source": []
  }
 ],
 "metadata": {
  "kernelspec": {
   "display_name": "ArcGISPro",
   "language": "Python",
   "name": "python3"
  },
  "language_info": {
   "file_extension": ".py",
   "name": "python",
   "version": "3"
  }
 },
 "nbformat": 4,
 "nbformat_minor": 2
}
